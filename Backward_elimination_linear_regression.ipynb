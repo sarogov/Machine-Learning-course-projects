{
  "nbformat": 4,
  "nbformat_minor": 0,
  "metadata": {
    "colab": {
      "name": "Backward_elimination_linear_regression.ipynb",
      "provenance": [],
      "toc_visible": true
    },
    "kernelspec": {
      "name": "python3",
      "display_name": "Python 3"
    }
  },
  "cells": [
    {
      "cell_type": "markdown",
      "metadata": {
        "id": "CazISR8X_HUG"
      },
      "source": [
        "# Multiple Linear Regression\n",
        "Here we use linear regression for  a very simple dataset '50_Startups.csv' that contains data of some startup companies and have only 50 entries. The main focus is learning how to do linear regression and that dataset is simple so handling it is easier and doesn't come on the way. Deeper introduction to linear regression can be foundfor example from https://towardsdatascience.com/the-complete-guide-to-linear-regression-in-python-3d3f8f06bf8 .\n",
        "\n",
        "In the linear regression model the  question is to find good coeffients $\\beta_0, \\beta_1, \\beta_2, ..., \\beta_n$ such that\n",
        "$$y = \\beta_0 + \\beta_1x_1 + \\beta_2x_2 + ... + \\beta_n x_n $$\n",
        "describe as well as possible the given data. In our case $x$ variables (so called independent variables) are  R&D Spend, Administration  cost, Marketing Spend and State. The y variable (alias dependant variable) is the profit of the company. This model then gives a possibility to predict $y$ when $x$'s are known."
      ]
    },
    {
      "cell_type": "markdown",
      "metadata": {
        "id": "pOyqYHTk_Q57"
      },
      "source": [
        "## Importing the libraries"
      ]
    },
    {
      "cell_type": "code",
      "metadata": {
        "id": "vCoXCTVkYvoH"
      },
      "source": [
        "import numpy as np\n",
        "import pandas as pd\n",
        "import matplotlib.pyplot as plt"
      ],
      "execution_count": 1,
      "outputs": []
    },
    {
      "cell_type": "markdown",
      "metadata": {
        "id": "vgC61-ah_WIz"
      },
      "source": [
        "## Importing the dataset"
      ]
    },
    {
      "cell_type": "code",
      "metadata": {
        "id": "KgxKIddZZPKo"
      },
      "source": [
        "dataset = pd.read_csv('Data/50_Startups.csv')"
      ],
      "execution_count": 2,
      "outputs": []
    },
    {
      "cell_type": "code",
      "metadata": {
        "id": "nFViHWBGZiOP",
        "outputId": "8d9b8cb1-4606-4532-b86b-4ed15e44ebcb",
        "colab": {
          "base_uri": "https://localhost:8080/",
          "height": 218
        }
      },
      "source": [
        "# Checking data\n",
        "dataset.info()"
      ],
      "execution_count": null,
      "outputs": [
        {
          "output_type": "stream",
          "text": [
            "<class 'pandas.core.frame.DataFrame'>\n",
            "RangeIndex: 50 entries, 0 to 49\n",
            "Data columns (total 5 columns):\n",
            " #   Column           Non-Null Count  Dtype  \n",
            "---  ------           --------------  -----  \n",
            " 0   R&D Spend        50 non-null     float64\n",
            " 1   Administration   50 non-null     float64\n",
            " 2   Marketing Spend  50 non-null     float64\n",
            " 3   State            50 non-null     object \n",
            " 4   Profit           50 non-null     float64\n",
            "dtypes: float64(4), object(1)\n",
            "memory usage: 2.1+ KB\n"
          ],
          "name": "stdout"
        }
      ]
    },
    {
      "cell_type": "code",
      "metadata": {
        "id": "S-TsmkMFZnwA",
        "outputId": "bb9645cb-5ada-43e7-e9c3-0a2ab39cafa4",
        "colab": {
          "base_uri": "https://localhost:8080/",
          "height": 195
        }
      },
      "source": [
        "dataset.head()"
      ],
      "execution_count": null,
      "outputs": [
        {
          "output_type": "execute_result",
          "data": {
            "text/html": [
              "<div>\n",
              "<style scoped>\n",
              "    .dataframe tbody tr th:only-of-type {\n",
              "        vertical-align: middle;\n",
              "    }\n",
              "\n",
              "    .dataframe tbody tr th {\n",
              "        vertical-align: top;\n",
              "    }\n",
              "\n",
              "    .dataframe thead th {\n",
              "        text-align: right;\n",
              "    }\n",
              "</style>\n",
              "<table border=\"1\" class=\"dataframe\">\n",
              "  <thead>\n",
              "    <tr style=\"text-align: right;\">\n",
              "      <th></th>\n",
              "      <th>R&amp;D Spend</th>\n",
              "      <th>Administration</th>\n",
              "      <th>Marketing Spend</th>\n",
              "      <th>State</th>\n",
              "      <th>Profit</th>\n",
              "    </tr>\n",
              "  </thead>\n",
              "  <tbody>\n",
              "    <tr>\n",
              "      <th>0</th>\n",
              "      <td>165349.20</td>\n",
              "      <td>136897.80</td>\n",
              "      <td>471784.10</td>\n",
              "      <td>New York</td>\n",
              "      <td>192261.83</td>\n",
              "    </tr>\n",
              "    <tr>\n",
              "      <th>1</th>\n",
              "      <td>162597.70</td>\n",
              "      <td>151377.59</td>\n",
              "      <td>443898.53</td>\n",
              "      <td>California</td>\n",
              "      <td>191792.06</td>\n",
              "    </tr>\n",
              "    <tr>\n",
              "      <th>2</th>\n",
              "      <td>153441.51</td>\n",
              "      <td>101145.55</td>\n",
              "      <td>407934.54</td>\n",
              "      <td>Florida</td>\n",
              "      <td>191050.39</td>\n",
              "    </tr>\n",
              "    <tr>\n",
              "      <th>3</th>\n",
              "      <td>144372.41</td>\n",
              "      <td>118671.85</td>\n",
              "      <td>383199.62</td>\n",
              "      <td>New York</td>\n",
              "      <td>182901.99</td>\n",
              "    </tr>\n",
              "    <tr>\n",
              "      <th>4</th>\n",
              "      <td>142107.34</td>\n",
              "      <td>91391.77</td>\n",
              "      <td>366168.42</td>\n",
              "      <td>Florida</td>\n",
              "      <td>166187.94</td>\n",
              "    </tr>\n",
              "  </tbody>\n",
              "</table>\n",
              "</div>"
            ],
            "text/plain": [
              "   R&D Spend  Administration  Marketing Spend       State     Profit\n",
              "0  165349.20       136897.80        471784.10    New York  192261.83\n",
              "1  162597.70       151377.59        443898.53  California  191792.06\n",
              "2  153441.51       101145.55        407934.54     Florida  191050.39\n",
              "3  144372.41       118671.85        383199.62    New York  182901.99\n",
              "4  142107.34        91391.77        366168.42     Florida  166187.94"
            ]
          },
          "metadata": {
            "tags": []
          },
          "execution_count": 4
        }
      ]
    },
    {
      "cell_type": "code",
      "metadata": {
        "id": "WJVW7CDhZ48u",
        "outputId": "c685b38f-c385-4a2a-c8b2-aefa7aa3ee2c",
        "colab": {
          "base_uri": "https://localhost:8080/",
          "height": 84
        }
      },
      "source": [
        "dataset['State'].value_counts()"
      ],
      "execution_count": null,
      "outputs": [
        {
          "output_type": "execute_result",
          "data": {
            "text/plain": [
              "New York      17\n",
              "California    17\n",
              "Florida       16\n",
              "Name: State, dtype: int64"
            ]
          },
          "metadata": {
            "tags": []
          },
          "execution_count": 5
        }
      ]
    },
    {
      "cell_type": "markdown",
      "metadata": {
        "id": "7zePycT2Zsyj"
      },
      "source": [
        "The data looks good. It doesn't have any nan values or any abnormalities. State is a caterogical variable, so we need to encode. We use one hot encoding method, because there are three possible values and they don't have any order. "
      ]
    },
    {
      "cell_type": "code",
      "metadata": {
        "id": "1R5FijOJaVDn",
        "outputId": "52c45613-a287-4471-d8d8-fb3cb3feca2a",
        "colab": {
          "base_uri": "https://localhost:8080/",
          "height": 195
        }
      },
      "source": [
        "dataset = pd.get_dummies(dataset)\n",
        "dataset.head()"
      ],
      "execution_count": 3,
      "outputs": [
        {
          "output_type": "execute_result",
          "data": {
            "text/html": [
              "<div>\n",
              "<style scoped>\n",
              "    .dataframe tbody tr th:only-of-type {\n",
              "        vertical-align: middle;\n",
              "    }\n",
              "\n",
              "    .dataframe tbody tr th {\n",
              "        vertical-align: top;\n",
              "    }\n",
              "\n",
              "    .dataframe thead th {\n",
              "        text-align: right;\n",
              "    }\n",
              "</style>\n",
              "<table border=\"1\" class=\"dataframe\">\n",
              "  <thead>\n",
              "    <tr style=\"text-align: right;\">\n",
              "      <th></th>\n",
              "      <th>R&amp;D Spend</th>\n",
              "      <th>Administration</th>\n",
              "      <th>Marketing Spend</th>\n",
              "      <th>Profit</th>\n",
              "      <th>State_California</th>\n",
              "      <th>State_Florida</th>\n",
              "      <th>State_New York</th>\n",
              "    </tr>\n",
              "  </thead>\n",
              "  <tbody>\n",
              "    <tr>\n",
              "      <th>0</th>\n",
              "      <td>165349.20</td>\n",
              "      <td>136897.80</td>\n",
              "      <td>471784.10</td>\n",
              "      <td>192261.83</td>\n",
              "      <td>0</td>\n",
              "      <td>0</td>\n",
              "      <td>1</td>\n",
              "    </tr>\n",
              "    <tr>\n",
              "      <th>1</th>\n",
              "      <td>162597.70</td>\n",
              "      <td>151377.59</td>\n",
              "      <td>443898.53</td>\n",
              "      <td>191792.06</td>\n",
              "      <td>1</td>\n",
              "      <td>0</td>\n",
              "      <td>0</td>\n",
              "    </tr>\n",
              "    <tr>\n",
              "      <th>2</th>\n",
              "      <td>153441.51</td>\n",
              "      <td>101145.55</td>\n",
              "      <td>407934.54</td>\n",
              "      <td>191050.39</td>\n",
              "      <td>0</td>\n",
              "      <td>1</td>\n",
              "      <td>0</td>\n",
              "    </tr>\n",
              "    <tr>\n",
              "      <th>3</th>\n",
              "      <td>144372.41</td>\n",
              "      <td>118671.85</td>\n",
              "      <td>383199.62</td>\n",
              "      <td>182901.99</td>\n",
              "      <td>0</td>\n",
              "      <td>0</td>\n",
              "      <td>1</td>\n",
              "    </tr>\n",
              "    <tr>\n",
              "      <th>4</th>\n",
              "      <td>142107.34</td>\n",
              "      <td>91391.77</td>\n",
              "      <td>366168.42</td>\n",
              "      <td>166187.94</td>\n",
              "      <td>0</td>\n",
              "      <td>1</td>\n",
              "      <td>0</td>\n",
              "    </tr>\n",
              "  </tbody>\n",
              "</table>\n",
              "</div>"
            ],
            "text/plain": [
              "   R&D Spend  Administration  ...  State_Florida  State_New York\n",
              "0  165349.20       136897.80  ...              0               1\n",
              "1  162597.70       151377.59  ...              0               0\n",
              "2  153441.51       101145.55  ...              1               0\n",
              "3  144372.41       118671.85  ...              0               1\n",
              "4  142107.34        91391.77  ...              1               0\n",
              "\n",
              "[5 rows x 7 columns]"
            ]
          },
          "metadata": {
            "tags": []
          },
          "execution_count": 3
        }
      ]
    },
    {
      "cell_type": "markdown",
      "metadata": {
        "id": "qWJpsiCOa1sH"
      },
      "source": [
        "Nest we separate  x 's and  y . So  y  will be the profit and everything else goes to  X . We use capital  X  because it contains more than just one variable. It is actually a matrix of values. Also we change from dataframes to numpy arrays because we only need the numerical values and not any indexies from now on. "
      ]
    },
    {
      "cell_type": "code",
      "metadata": {
        "id": "woL3rsK0ZrHF"
      },
      "source": [
        "X = dataset.drop(['Profit'], axis = 1).to_numpy()\n",
        "y = dataset['Profit'].to_numpy()"
      ],
      "execution_count": 4,
      "outputs": []
    },
    {
      "cell_type": "code",
      "metadata": {
        "id": "MV_0-gzdaKGH",
        "outputId": "044ec706-a648-4092-a111-6a7efec244f3",
        "colab": {
          "base_uri": "https://localhost:8080/",
          "height": 1000
        }
      },
      "source": [
        "print(X)"
      ],
      "execution_count": null,
      "outputs": [
        {
          "output_type": "stream",
          "text": [
            "[[1.6534920e+05 1.3689780e+05 4.7178410e+05 0.0000000e+00 0.0000000e+00\n",
            "  1.0000000e+00]\n",
            " [1.6259770e+05 1.5137759e+05 4.4389853e+05 1.0000000e+00 0.0000000e+00\n",
            "  0.0000000e+00]\n",
            " [1.5344151e+05 1.0114555e+05 4.0793454e+05 0.0000000e+00 1.0000000e+00\n",
            "  0.0000000e+00]\n",
            " [1.4437241e+05 1.1867185e+05 3.8319962e+05 0.0000000e+00 0.0000000e+00\n",
            "  1.0000000e+00]\n",
            " [1.4210734e+05 9.1391770e+04 3.6616842e+05 0.0000000e+00 1.0000000e+00\n",
            "  0.0000000e+00]\n",
            " [1.3187690e+05 9.9814710e+04 3.6286136e+05 0.0000000e+00 0.0000000e+00\n",
            "  1.0000000e+00]\n",
            " [1.3461546e+05 1.4719887e+05 1.2771682e+05 1.0000000e+00 0.0000000e+00\n",
            "  0.0000000e+00]\n",
            " [1.3029813e+05 1.4553006e+05 3.2387668e+05 0.0000000e+00 1.0000000e+00\n",
            "  0.0000000e+00]\n",
            " [1.2054252e+05 1.4871895e+05 3.1161329e+05 0.0000000e+00 0.0000000e+00\n",
            "  1.0000000e+00]\n",
            " [1.2333488e+05 1.0867917e+05 3.0498162e+05 1.0000000e+00 0.0000000e+00\n",
            "  0.0000000e+00]\n",
            " [1.0191308e+05 1.1059411e+05 2.2916095e+05 0.0000000e+00 1.0000000e+00\n",
            "  0.0000000e+00]\n",
            " [1.0067196e+05 9.1790610e+04 2.4974455e+05 1.0000000e+00 0.0000000e+00\n",
            "  0.0000000e+00]\n",
            " [9.3863750e+04 1.2732038e+05 2.4983944e+05 0.0000000e+00 1.0000000e+00\n",
            "  0.0000000e+00]\n",
            " [9.1992390e+04 1.3549507e+05 2.5266493e+05 1.0000000e+00 0.0000000e+00\n",
            "  0.0000000e+00]\n",
            " [1.1994324e+05 1.5654742e+05 2.5651292e+05 0.0000000e+00 1.0000000e+00\n",
            "  0.0000000e+00]\n",
            " [1.1452361e+05 1.2261684e+05 2.6177623e+05 0.0000000e+00 0.0000000e+00\n",
            "  1.0000000e+00]\n",
            " [7.8013110e+04 1.2159755e+05 2.6434606e+05 1.0000000e+00 0.0000000e+00\n",
            "  0.0000000e+00]\n",
            " [9.4657160e+04 1.4507758e+05 2.8257431e+05 0.0000000e+00 0.0000000e+00\n",
            "  1.0000000e+00]\n",
            " [9.1749160e+04 1.1417579e+05 2.9491957e+05 0.0000000e+00 1.0000000e+00\n",
            "  0.0000000e+00]\n",
            " [8.6419700e+04 1.5351411e+05 0.0000000e+00 0.0000000e+00 0.0000000e+00\n",
            "  1.0000000e+00]\n",
            " [7.6253860e+04 1.1386730e+05 2.9866447e+05 1.0000000e+00 0.0000000e+00\n",
            "  0.0000000e+00]\n",
            " [7.8389470e+04 1.5377343e+05 2.9973729e+05 0.0000000e+00 0.0000000e+00\n",
            "  1.0000000e+00]\n",
            " [7.3994560e+04 1.2278275e+05 3.0331926e+05 0.0000000e+00 1.0000000e+00\n",
            "  0.0000000e+00]\n",
            " [6.7532530e+04 1.0575103e+05 3.0476873e+05 0.0000000e+00 1.0000000e+00\n",
            "  0.0000000e+00]\n",
            " [7.7044010e+04 9.9281340e+04 1.4057481e+05 0.0000000e+00 0.0000000e+00\n",
            "  1.0000000e+00]\n",
            " [6.4664710e+04 1.3955316e+05 1.3796262e+05 1.0000000e+00 0.0000000e+00\n",
            "  0.0000000e+00]\n",
            " [7.5328870e+04 1.4413598e+05 1.3405007e+05 0.0000000e+00 1.0000000e+00\n",
            "  0.0000000e+00]\n",
            " [7.2107600e+04 1.2786455e+05 3.5318381e+05 0.0000000e+00 0.0000000e+00\n",
            "  1.0000000e+00]\n",
            " [6.6051520e+04 1.8264556e+05 1.1814820e+05 0.0000000e+00 1.0000000e+00\n",
            "  0.0000000e+00]\n",
            " [6.5605480e+04 1.5303206e+05 1.0713838e+05 0.0000000e+00 0.0000000e+00\n",
            "  1.0000000e+00]\n",
            " [6.1994480e+04 1.1564128e+05 9.1131240e+04 0.0000000e+00 1.0000000e+00\n",
            "  0.0000000e+00]\n",
            " [6.1136380e+04 1.5270192e+05 8.8218230e+04 0.0000000e+00 0.0000000e+00\n",
            "  1.0000000e+00]\n",
            " [6.3408860e+04 1.2921961e+05 4.6085250e+04 1.0000000e+00 0.0000000e+00\n",
            "  0.0000000e+00]\n",
            " [5.5493950e+04 1.0305749e+05 2.1463481e+05 0.0000000e+00 1.0000000e+00\n",
            "  0.0000000e+00]\n",
            " [4.6426070e+04 1.5769392e+05 2.1079767e+05 1.0000000e+00 0.0000000e+00\n",
            "  0.0000000e+00]\n",
            " [4.6014020e+04 8.5047440e+04 2.0551764e+05 0.0000000e+00 0.0000000e+00\n",
            "  1.0000000e+00]\n",
            " [2.8663760e+04 1.2705621e+05 2.0112682e+05 0.0000000e+00 1.0000000e+00\n",
            "  0.0000000e+00]\n",
            " [4.4069950e+04 5.1283140e+04 1.9702942e+05 1.0000000e+00 0.0000000e+00\n",
            "  0.0000000e+00]\n",
            " [2.0229590e+04 6.5947930e+04 1.8526510e+05 0.0000000e+00 0.0000000e+00\n",
            "  1.0000000e+00]\n",
            " [3.8558510e+04 8.2982090e+04 1.7499930e+05 1.0000000e+00 0.0000000e+00\n",
            "  0.0000000e+00]\n",
            " [2.8754330e+04 1.1854605e+05 1.7279567e+05 1.0000000e+00 0.0000000e+00\n",
            "  0.0000000e+00]\n",
            " [2.7892920e+04 8.4710770e+04 1.6447071e+05 0.0000000e+00 1.0000000e+00\n",
            "  0.0000000e+00]\n",
            " [2.3640930e+04 9.6189630e+04 1.4800111e+05 1.0000000e+00 0.0000000e+00\n",
            "  0.0000000e+00]\n",
            " [1.5505730e+04 1.2738230e+05 3.5534170e+04 0.0000000e+00 0.0000000e+00\n",
            "  1.0000000e+00]\n",
            " [2.2177740e+04 1.5480614e+05 2.8334720e+04 1.0000000e+00 0.0000000e+00\n",
            "  0.0000000e+00]\n",
            " [1.0002300e+03 1.2415304e+05 1.9039300e+03 0.0000000e+00 0.0000000e+00\n",
            "  1.0000000e+00]\n",
            " [1.3154600e+03 1.1581621e+05 2.9711446e+05 0.0000000e+00 1.0000000e+00\n",
            "  0.0000000e+00]\n",
            " [0.0000000e+00 1.3542692e+05 0.0000000e+00 1.0000000e+00 0.0000000e+00\n",
            "  0.0000000e+00]\n",
            " [5.4205000e+02 5.1743150e+04 0.0000000e+00 0.0000000e+00 0.0000000e+00\n",
            "  1.0000000e+00]\n",
            " [0.0000000e+00 1.1698380e+05 4.5173060e+04 1.0000000e+00 0.0000000e+00\n",
            "  0.0000000e+00]]\n"
          ],
          "name": "stdout"
        }
      ]
    },
    {
      "cell_type": "code",
      "metadata": {
        "id": "lnH3I5-8aP6v",
        "outputId": "2d1e0045-81cb-418e-85aa-69740c17c00e",
        "colab": {
          "base_uri": "https://localhost:8080/",
          "height": 151
        }
      },
      "source": [
        "print(y)"
      ],
      "execution_count": null,
      "outputs": [
        {
          "output_type": "stream",
          "text": [
            "[192261.83 191792.06 191050.39 182901.99 166187.94 156991.12 156122.51\n",
            " 155752.6  152211.77 149759.96 146121.95 144259.4  141585.52 134307.35\n",
            " 132602.65 129917.04 126992.93 125370.37 124266.9  122776.86 118474.03\n",
            " 111313.02 110352.25 108733.99 108552.04 107404.34 105733.54 105008.31\n",
            " 103282.38 101004.64  99937.59  97483.56  97427.84  96778.92  96712.8\n",
            "  96479.51  90708.19  89949.14  81229.06  81005.76  78239.91  77798.83\n",
            "  71498.49  69758.98  65200.33  64926.08  49490.75  42559.73  35673.41\n",
            "  14681.4 ]\n"
          ],
          "name": "stdout"
        }
      ]
    },
    {
      "cell_type": "markdown",
      "metadata": {
        "id": "WemVnqgeA70k"
      },
      "source": [
        "## Splitting the dataset into the Training set and Test set"
      ]
    },
    {
      "cell_type": "code",
      "metadata": {
        "id": "QNu0fHjvcxKS"
      },
      "source": [
        "from sklearn.model_selection import train_test_split\n",
        "X_train, X_test, y_train, y_test = train_test_split(X,y, test_size=0.2, random_state = 0) "
      ],
      "execution_count": 5,
      "outputs": []
    },
    {
      "cell_type": "code",
      "metadata": {
        "id": "vq-ZAjPvdYRP",
        "outputId": "138e48ce-0b25-4f67-9b51-53b5c3cfe177",
        "colab": {
          "base_uri": "https://localhost:8080/",
          "height": 353
        }
      },
      "source": [
        "print(X_test)"
      ],
      "execution_count": null,
      "outputs": [
        {
          "output_type": "stream",
          "text": [
            "[[6.6051520e+04 1.8264556e+05 1.1814820e+05 0.0000000e+00 1.0000000e+00\n",
            "  0.0000000e+00]\n",
            " [1.0067196e+05 9.1790610e+04 2.4974455e+05 1.0000000e+00 0.0000000e+00\n",
            "  0.0000000e+00]\n",
            " [1.0191308e+05 1.1059411e+05 2.2916095e+05 0.0000000e+00 1.0000000e+00\n",
            "  0.0000000e+00]\n",
            " [2.7892920e+04 8.4710770e+04 1.6447071e+05 0.0000000e+00 1.0000000e+00\n",
            "  0.0000000e+00]\n",
            " [1.5344151e+05 1.0114555e+05 4.0793454e+05 0.0000000e+00 1.0000000e+00\n",
            "  0.0000000e+00]\n",
            " [7.2107600e+04 1.2786455e+05 3.5318381e+05 0.0000000e+00 0.0000000e+00\n",
            "  1.0000000e+00]\n",
            " [2.0229590e+04 6.5947930e+04 1.8526510e+05 0.0000000e+00 0.0000000e+00\n",
            "  1.0000000e+00]\n",
            " [6.1136380e+04 1.5270192e+05 8.8218230e+04 0.0000000e+00 0.0000000e+00\n",
            "  1.0000000e+00]\n",
            " [7.3994560e+04 1.2278275e+05 3.0331926e+05 0.0000000e+00 1.0000000e+00\n",
            "  0.0000000e+00]\n",
            " [1.4210734e+05 9.1391770e+04 3.6616842e+05 0.0000000e+00 1.0000000e+00\n",
            "  0.0000000e+00]]\n"
          ],
          "name": "stdout"
        }
      ]
    },
    {
      "cell_type": "markdown",
      "metadata": {
        "id": "k-McZVsQBINc"
      },
      "source": [
        "## Training the Multiple Linear Regression model on the Training set\n",
        "We now do our first linear regression model using skicit-learns LinearRegression package.\n"
      ]
    },
    {
      "cell_type": "code",
      "metadata": {
        "id": "ih5BZZ6Qrt4Z",
        "outputId": "a73c023d-5c62-4df3-868f-0d06f187fa82",
        "colab": {
          "base_uri": "https://localhost:8080/",
          "height": 34
        }
      },
      "source": [
        "from sklearn.linear_model import LinearRegression\n",
        "regressor = LinearRegression()\n",
        "regressor.fit(X_train, y_train)"
      ],
      "execution_count": 6,
      "outputs": [
        {
          "output_type": "execute_result",
          "data": {
            "text/plain": [
              "LinearRegression(copy_X=True, fit_intercept=True, n_jobs=None, normalize=False)"
            ]
          },
          "metadata": {
            "tags": []
          },
          "execution_count": 6
        }
      ]
    },
    {
      "cell_type": "code",
      "metadata": {
        "id": "JqPh-iICbv91",
        "outputId": "d04e9cee-9f86-48a7-d555-bedd3764d090",
        "colab": {
          "base_uri": "https://localhost:8080/",
          "height": 50
        }
      },
      "source": [
        "print(\"Linear regression model is:\")\n",
        "print(f\"Profit = {round(regressor.intercept_,3)} + {round(regressor.coef_[0],3)}*R&D Spend \\\n",
        "+ {round(regressor.coef_[1],3)}*Administration + {round(regressor.coef_[2],3)}*Marketing Spend \\\n",
        "+ {round(regressor.coef_[3],3)}* California + {round(regressor.coef_[4],3)}* New York \\\n",
        "+ {round(regressor.coef_[5],3)}* Florida\")\n"
      ],
      "execution_count": 7,
      "outputs": [
        {
          "output_type": "stream",
          "text": [
            "Linear regression model is:\n",
            "Profit = 42467.529 + 0.773*R&D Spend + 0.033*Administration + 0.037*Marketing Spend + 86.638* California + -872.646* New York + 786.007* Florida\n"
          ],
          "name": "stdout"
        }
      ]
    },
    {
      "cell_type": "markdown",
      "metadata": {
        "id": "EKtGXzKWx_Sb"
      },
      "source": [
        "This is not probably the best possible Linear regression model. First of all because the last three are so called dummy variables and one of them depends on the other two, we can easily remove the one value out of our model. Secondly we should test if all those variables really have a significant effect to our profit. But before we do it let's compare the predicted values and the given values in the test set.\n"
      ]
    },
    {
      "cell_type": "markdown",
      "metadata": {
        "id": "xNkXL1YQBiBT"
      },
      "source": [
        "## Predicting the Test set results"
      ]
    },
    {
      "cell_type": "code",
      "metadata": {
        "id": "s1Ix_9ePPVE6",
        "outputId": "4d0e45db-f3a1-4351-eca4-208be02ca884",
        "colab": {
          "base_uri": "https://localhost:8080/",
          "height": 343
        }
      },
      "source": [
        "y_pred = regressor.predict(X_test)\n",
        "result_data = np.concatenate((y_test.reshape(len(y_test),1),y_pred.reshape(len(y_pred),1)), axis = 1)\n",
        "results = pd.DataFrame(result_data, columns=['Test set value', 'Prediction'])\n",
        "results['Difference %'] = (results['Prediction']-results['Test set value'])/results['Test set value'] * 100\n",
        "results"
      ],
      "execution_count": 7,
      "outputs": [
        {
          "output_type": "execute_result",
          "data": {
            "text/html": [
              "<div>\n",
              "<style scoped>\n",
              "    .dataframe tbody tr th:only-of-type {\n",
              "        vertical-align: middle;\n",
              "    }\n",
              "\n",
              "    .dataframe tbody tr th {\n",
              "        vertical-align: top;\n",
              "    }\n",
              "\n",
              "    .dataframe thead th {\n",
              "        text-align: right;\n",
              "    }\n",
              "</style>\n",
              "<table border=\"1\" class=\"dataframe\">\n",
              "  <thead>\n",
              "    <tr style=\"text-align: right;\">\n",
              "      <th></th>\n",
              "      <th>Test set value</th>\n",
              "      <th>Prediction</th>\n",
              "      <th>Difference %</th>\n",
              "    </tr>\n",
              "  </thead>\n",
              "  <tbody>\n",
              "    <tr>\n",
              "      <th>0</th>\n",
              "      <td>103282.38</td>\n",
              "      <td>103015.201598</td>\n",
              "      <td>-0.258687</td>\n",
              "    </tr>\n",
              "    <tr>\n",
              "      <th>1</th>\n",
              "      <td>144259.40</td>\n",
              "      <td>132582.277608</td>\n",
              "      <td>-8.094531</td>\n",
              "    </tr>\n",
              "    <tr>\n",
              "      <th>2</th>\n",
              "      <td>146121.95</td>\n",
              "      <td>132447.738452</td>\n",
              "      <td>-9.358082</td>\n",
              "    </tr>\n",
              "    <tr>\n",
              "      <th>3</th>\n",
              "      <td>77798.83</td>\n",
              "      <td>71976.098513</td>\n",
              "      <td>-7.484343</td>\n",
              "    </tr>\n",
              "    <tr>\n",
              "      <th>4</th>\n",
              "      <td>191050.39</td>\n",
              "      <td>178537.482211</td>\n",
              "      <td>-6.549533</td>\n",
              "    </tr>\n",
              "    <tr>\n",
              "      <th>5</th>\n",
              "      <td>105008.31</td>\n",
              "      <td>116161.242302</td>\n",
              "      <td>10.621000</td>\n",
              "    </tr>\n",
              "    <tr>\n",
              "      <th>6</th>\n",
              "      <td>81229.06</td>\n",
              "      <td>67851.692097</td>\n",
              "      <td>-16.468697</td>\n",
              "    </tr>\n",
              "    <tr>\n",
              "      <th>7</th>\n",
              "      <td>97483.56</td>\n",
              "      <td>98791.733747</td>\n",
              "      <td>1.341943</td>\n",
              "    </tr>\n",
              "    <tr>\n",
              "      <th>8</th>\n",
              "      <td>110352.25</td>\n",
              "      <td>113969.435330</td>\n",
              "      <td>3.277854</td>\n",
              "    </tr>\n",
              "    <tr>\n",
              "      <th>9</th>\n",
              "      <td>166187.94</td>\n",
              "      <td>167921.065696</td>\n",
              "      <td>1.042871</td>\n",
              "    </tr>\n",
              "  </tbody>\n",
              "</table>\n",
              "</div>"
            ],
            "text/plain": [
              "   Test set value     Prediction  Difference %\n",
              "0       103282.38  103015.201598     -0.258687\n",
              "1       144259.40  132582.277608     -8.094531\n",
              "2       146121.95  132447.738452     -9.358082\n",
              "3        77798.83   71976.098513     -7.484343\n",
              "4       191050.39  178537.482211     -6.549533\n",
              "5       105008.31  116161.242302     10.621000\n",
              "6        81229.06   67851.692097    -16.468697\n",
              "7        97483.56   98791.733747      1.341943\n",
              "8       110352.25  113969.435330      3.277854\n",
              "9       166187.94  167921.065696      1.042871"
            ]
          },
          "metadata": {
            "tags": []
          },
          "execution_count": 7
        }
      ]
    },
    {
      "cell_type": "code",
      "metadata": {
        "id": "0gMVe93wR6r_",
        "outputId": "c19598f2-970b-4007-efdc-331e578f2406",
        "colab": {
          "base_uri": "https://localhost:8080/",
          "height": 34
        }
      },
      "source": [
        "print(f\"The average difference is {round(results['Difference %'].mean(),2)} %.\")"
      ],
      "execution_count": null,
      "outputs": [
        {
          "output_type": "stream",
          "text": [
            "The average difference is -3.19 %.\n"
          ],
          "name": "stdout"
        }
      ]
    },
    {
      "cell_type": "markdown",
      "metadata": {
        "id": "ME2IYgBmRqce"
      },
      "source": [
        "Pretty good values we got. Biggest difference between predicted and the given value was about 16 %. And in average the predicted value was only about 3,2 % off.\n",
        "\n",
        "Next we shall see if we can do this model better by backward elimination. To get better statistics how well our model does we need to use statsmodels package and from there OLS (ordinary least squares) method for calculating the linear regression model."
      ]
    },
    {
      "cell_type": "markdown",
      "metadata": {
        "id": "ebBDtmTbSTTh"
      },
      "source": [
        "## Optimizing the model\n",
        "Just out of curiosity, let's run OLS without taking into account that the dummy variables are dependant of each others. Let's see if we get same coefficients as above."
      ]
    },
    {
      "cell_type": "code",
      "metadata": {
        "id": "wqnKWCdMCrkM",
        "outputId": "ed6b122d-a4e8-4c9c-df4a-c1a4c585e24c",
        "colab": {
          "base_uri": "https://localhost:8080/",
          "height": 608
        }
      },
      "source": [
        "import statsmodels.api as sm\n",
        "Xs = sm.add_constant(X_train) #Need to add column of constant 1's, so that we get \\beta_0 coeffient.\n",
        "Xs = np.array(Xs, dtype =float) # Needed to add this to make Xs's elemnts same type as y_train. Before this y_train type float64 and Xs float.\n",
        "regressor = sm.OLS(y_train,Xs).fit()\n",
        "print(regressor.summary())"
      ],
      "execution_count": 8,
      "outputs": [
        {
          "output_type": "stream",
          "text": [
            "/usr/local/lib/python3.6/dist-packages/statsmodels/tools/_testing.py:19: FutureWarning: pandas.util.testing is deprecated. Use the functions in the public API at pandas.testing instead.\n",
            "  import pandas.util.testing as tm\n"
          ],
          "name": "stderr"
        },
        {
          "output_type": "stream",
          "text": [
            "                            OLS Regression Results                            \n",
            "==============================================================================\n",
            "Dep. Variable:                      y   R-squared:                       0.950\n",
            "Model:                            OLS   Adj. R-squared:                  0.943\n",
            "Method:                 Least Squares   F-statistic:                     129.7\n",
            "Date:                Fri, 16 Oct 2020   Prob (F-statistic):           3.91e-21\n",
            "Time:                        13:07:11   Log-Likelihood:                -421.10\n",
            "No. Observations:                  40   AIC:                             854.2\n",
            "Df Residuals:                      34   BIC:                             864.3\n",
            "Df Model:                           5                                         \n",
            "Covariance Type:            nonrobust                                         \n",
            "==============================================================================\n",
            "                 coef    std err          t      P>|t|      [0.025      0.975]\n",
            "------------------------------------------------------------------------------\n",
            "const       3.185e+04   6192.057      5.144      0.000    1.93e+04    4.44e+04\n",
            "x1             0.7735      0.055     14.025      0.000       0.661       0.886\n",
            "x2             0.0329      0.066      0.495      0.624      -0.102       0.168\n",
            "x3             0.0366      0.019      1.884      0.068      -0.003       0.076\n",
            "x4           1.07e+04   2856.839      3.747      0.001    4897.725    1.65e+04\n",
            "x5          9744.2365   3477.506      2.802      0.008    2677.093    1.68e+04\n",
            "x6           1.14e+04   2887.255      3.949      0.000    5535.281    1.73e+04\n",
            "==============================================================================\n",
            "Omnibus:                       15.823   Durbin-Watson:                   2.468\n",
            "Prob(Omnibus):                  0.000   Jarque-Bera (JB):               23.231\n",
            "Skew:                          -1.094   Prob(JB):                     9.03e-06\n",
            "Kurtosis:                       6.025   Cond. No.                     3.38e+21\n",
            "==============================================================================\n",
            "\n",
            "Warnings:\n",
            "[1] Standard Errors assume that the covariance matrix of the errors is correctly specified.\n",
            "[2] The smallest eigenvalue is 2.61e-31. This might indicate that there are\n",
            "strong multicollinearity problems or that the design matrix is singular.\n"
          ],
          "name": "stdout"
        }
      ]
    },
    {
      "cell_type": "code",
      "metadata": {
        "id": "XPzfgPuwWkqo",
        "outputId": "3a781ca7-9e60-46a7-d36f-17ba0b65bead",
        "colab": {
          "base_uri": "https://localhost:8080/",
          "height": 343
        }
      },
      "source": [
        "X_test = sm.add_constant(X_test)\n",
        "y_pred = regressor.predict(X_test)\n",
        "results['Prediction2'] = y_pred\n",
        "results[['Prediction','Prediction2']]"
      ],
      "execution_count": 9,
      "outputs": [
        {
          "output_type": "execute_result",
          "data": {
            "text/html": [
              "<div>\n",
              "<style scoped>\n",
              "    .dataframe tbody tr th:only-of-type {\n",
              "        vertical-align: middle;\n",
              "    }\n",
              "\n",
              "    .dataframe tbody tr th {\n",
              "        vertical-align: top;\n",
              "    }\n",
              "\n",
              "    .dataframe thead th {\n",
              "        text-align: right;\n",
              "    }\n",
              "</style>\n",
              "<table border=\"1\" class=\"dataframe\">\n",
              "  <thead>\n",
              "    <tr style=\"text-align: right;\">\n",
              "      <th></th>\n",
              "      <th>Prediction</th>\n",
              "      <th>Prediction2</th>\n",
              "    </tr>\n",
              "  </thead>\n",
              "  <tbody>\n",
              "    <tr>\n",
              "      <th>0</th>\n",
              "      <td>103015.201598</td>\n",
              "      <td>103015.201598</td>\n",
              "    </tr>\n",
              "    <tr>\n",
              "      <th>1</th>\n",
              "      <td>132582.277608</td>\n",
              "      <td>132582.277609</td>\n",
              "    </tr>\n",
              "    <tr>\n",
              "      <th>2</th>\n",
              "      <td>132447.738452</td>\n",
              "      <td>132447.738453</td>\n",
              "    </tr>\n",
              "    <tr>\n",
              "      <th>3</th>\n",
              "      <td>71976.098513</td>\n",
              "      <td>71976.098511</td>\n",
              "    </tr>\n",
              "    <tr>\n",
              "      <th>4</th>\n",
              "      <td>178537.482211</td>\n",
              "      <td>178537.482212</td>\n",
              "    </tr>\n",
              "    <tr>\n",
              "      <th>5</th>\n",
              "      <td>116161.242302</td>\n",
              "      <td>116161.242300</td>\n",
              "    </tr>\n",
              "    <tr>\n",
              "      <th>6</th>\n",
              "      <td>67851.692097</td>\n",
              "      <td>67851.692095</td>\n",
              "    </tr>\n",
              "    <tr>\n",
              "      <th>7</th>\n",
              "      <td>98791.733747</td>\n",
              "      <td>98791.733747</td>\n",
              "    </tr>\n",
              "    <tr>\n",
              "      <th>8</th>\n",
              "      <td>113969.435330</td>\n",
              "      <td>113969.435329</td>\n",
              "    </tr>\n",
              "    <tr>\n",
              "      <th>9</th>\n",
              "      <td>167921.065696</td>\n",
              "      <td>167921.065697</td>\n",
              "    </tr>\n",
              "  </tbody>\n",
              "</table>\n",
              "</div>"
            ],
            "text/plain": [
              "      Prediction    Prediction2\n",
              "0  103015.201598  103015.201598\n",
              "1  132582.277608  132582.277609\n",
              "2  132447.738452  132447.738453\n",
              "3   71976.098513   71976.098511\n",
              "4  178537.482211  178537.482212\n",
              "5  116161.242302  116161.242300\n",
              "6   67851.692097   67851.692095\n",
              "7   98791.733747   98791.733747\n",
              "8  113969.435330  113969.435329\n",
              "9  167921.065696  167921.065697"
            ]
          },
          "metadata": {
            "tags": []
          },
          "execution_count": 9
        }
      ]
    },
    {
      "cell_type": "markdown",
      "metadata": {
        "id": "l8KPMWg8Xey8"
      },
      "source": [
        "We got same predictions with OLS as with LinearRegression altought the constant and the coefficients of state dummy columns vary. This is caused by the fact that they are linearly dependent. Next we will remove this so called dummy trap and see how it effects the situation."
      ]
    },
    {
      "cell_type": "code",
      "metadata": {
        "id": "d8v13uGKXd0y",
        "outputId": "ad1cb3e5-8ebc-4b7f-e37f-e43f0ae6ac42",
        "colab": {
          "base_uri": "https://localhost:8080/",
          "height": 1000
        }
      },
      "source": [
        "Xs = Xs[:,:-1]\n",
        "print(Xs)"
      ],
      "execution_count": 10,
      "outputs": [
        {
          "output_type": "stream",
          "text": [
            "[[1.0000000e+00 5.5493950e+04 1.0305749e+05 2.1463481e+05 0.0000000e+00\n",
            "  1.0000000e+00]\n",
            " [1.0000000e+00 4.6014020e+04 8.5047440e+04 2.0551764e+05 0.0000000e+00\n",
            "  0.0000000e+00]\n",
            " [1.0000000e+00 7.5328870e+04 1.4413598e+05 1.3405007e+05 0.0000000e+00\n",
            "  1.0000000e+00]\n",
            " [1.0000000e+00 4.6426070e+04 1.5769392e+05 2.1079767e+05 1.0000000e+00\n",
            "  0.0000000e+00]\n",
            " [1.0000000e+00 9.1749160e+04 1.1417579e+05 2.9491957e+05 0.0000000e+00\n",
            "  1.0000000e+00]\n",
            " [1.0000000e+00 1.3029813e+05 1.4553006e+05 3.2387668e+05 0.0000000e+00\n",
            "  1.0000000e+00]\n",
            " [1.0000000e+00 1.1994324e+05 1.5654742e+05 2.5651292e+05 0.0000000e+00\n",
            "  1.0000000e+00]\n",
            " [1.0000000e+00 1.0002300e+03 1.2415304e+05 1.9039300e+03 0.0000000e+00\n",
            "  0.0000000e+00]\n",
            " [1.0000000e+00 5.4205000e+02 5.1743150e+04 0.0000000e+00 0.0000000e+00\n",
            "  0.0000000e+00]\n",
            " [1.0000000e+00 6.5605480e+04 1.5303206e+05 1.0713838e+05 0.0000000e+00\n",
            "  0.0000000e+00]\n",
            " [1.0000000e+00 1.1452361e+05 1.2261684e+05 2.6177623e+05 0.0000000e+00\n",
            "  0.0000000e+00]\n",
            " [1.0000000e+00 6.1994480e+04 1.1564128e+05 9.1131240e+04 0.0000000e+00\n",
            "  1.0000000e+00]\n",
            " [1.0000000e+00 6.3408860e+04 1.2921961e+05 4.6085250e+04 1.0000000e+00\n",
            "  0.0000000e+00]\n",
            " [1.0000000e+00 7.8013110e+04 1.2159755e+05 2.6434606e+05 1.0000000e+00\n",
            "  0.0000000e+00]\n",
            " [1.0000000e+00 2.3640930e+04 9.6189630e+04 1.4800111e+05 1.0000000e+00\n",
            "  0.0000000e+00]\n",
            " [1.0000000e+00 7.6253860e+04 1.1386730e+05 2.9866447e+05 1.0000000e+00\n",
            "  0.0000000e+00]\n",
            " [1.0000000e+00 1.5505730e+04 1.2738230e+05 3.5534170e+04 0.0000000e+00\n",
            "  0.0000000e+00]\n",
            " [1.0000000e+00 1.2054252e+05 1.4871895e+05 3.1161329e+05 0.0000000e+00\n",
            "  0.0000000e+00]\n",
            " [1.0000000e+00 9.1992390e+04 1.3549507e+05 2.5266493e+05 1.0000000e+00\n",
            "  0.0000000e+00]\n",
            " [1.0000000e+00 6.4664710e+04 1.3955316e+05 1.3796262e+05 1.0000000e+00\n",
            "  0.0000000e+00]\n",
            " [1.0000000e+00 1.3187690e+05 9.9814710e+04 3.6286136e+05 0.0000000e+00\n",
            "  0.0000000e+00]\n",
            " [1.0000000e+00 9.4657160e+04 1.4507758e+05 2.8257431e+05 0.0000000e+00\n",
            "  0.0000000e+00]\n",
            " [1.0000000e+00 2.8754330e+04 1.1854605e+05 1.7279567e+05 1.0000000e+00\n",
            "  0.0000000e+00]\n",
            " [1.0000000e+00 0.0000000e+00 1.1698380e+05 4.5173060e+04 1.0000000e+00\n",
            "  0.0000000e+00]\n",
            " [1.0000000e+00 1.6259770e+05 1.5137759e+05 4.4389853e+05 1.0000000e+00\n",
            "  0.0000000e+00]\n",
            " [1.0000000e+00 9.3863750e+04 1.2732038e+05 2.4983944e+05 0.0000000e+00\n",
            "  1.0000000e+00]\n",
            " [1.0000000e+00 4.4069950e+04 5.1283140e+04 1.9702942e+05 1.0000000e+00\n",
            "  0.0000000e+00]\n",
            " [1.0000000e+00 7.7044010e+04 9.9281340e+04 1.4057481e+05 0.0000000e+00\n",
            "  0.0000000e+00]\n",
            " [1.0000000e+00 1.3461546e+05 1.4719887e+05 1.2771682e+05 1.0000000e+00\n",
            "  0.0000000e+00]\n",
            " [1.0000000e+00 6.7532530e+04 1.0575103e+05 3.0476873e+05 0.0000000e+00\n",
            "  1.0000000e+00]\n",
            " [1.0000000e+00 2.8663760e+04 1.2705621e+05 2.0112682e+05 0.0000000e+00\n",
            "  1.0000000e+00]\n",
            " [1.0000000e+00 7.8389470e+04 1.5377343e+05 2.9973729e+05 0.0000000e+00\n",
            "  0.0000000e+00]\n",
            " [1.0000000e+00 8.6419700e+04 1.5351411e+05 0.0000000e+00 0.0000000e+00\n",
            "  0.0000000e+00]\n",
            " [1.0000000e+00 1.2333488e+05 1.0867917e+05 3.0498162e+05 1.0000000e+00\n",
            "  0.0000000e+00]\n",
            " [1.0000000e+00 3.8558510e+04 8.2982090e+04 1.7499930e+05 1.0000000e+00\n",
            "  0.0000000e+00]\n",
            " [1.0000000e+00 1.3154600e+03 1.1581621e+05 2.9711446e+05 0.0000000e+00\n",
            "  1.0000000e+00]\n",
            " [1.0000000e+00 1.4437241e+05 1.1867185e+05 3.8319962e+05 0.0000000e+00\n",
            "  0.0000000e+00]\n",
            " [1.0000000e+00 1.6534920e+05 1.3689780e+05 4.7178410e+05 0.0000000e+00\n",
            "  0.0000000e+00]\n",
            " [1.0000000e+00 0.0000000e+00 1.3542692e+05 0.0000000e+00 1.0000000e+00\n",
            "  0.0000000e+00]\n",
            " [1.0000000e+00 2.2177740e+04 1.5480614e+05 2.8334720e+04 1.0000000e+00\n",
            "  0.0000000e+00]]\n"
          ],
          "name": "stdout"
        }
      ]
    },
    {
      "cell_type": "code",
      "metadata": {
        "id": "nziGPZ1fyYnh",
        "outputId": "38559c5c-54d1-417a-99da-63b222aee20a",
        "colab": {
          "base_uri": "https://localhost:8080/",
          "height": 538
        }
      },
      "source": [
        "regressor = sm.OLS(y_train,Xs).fit()\n",
        "print(regressor.summary())"
      ],
      "execution_count": 11,
      "outputs": [
        {
          "output_type": "stream",
          "text": [
            "                            OLS Regression Results                            \n",
            "==============================================================================\n",
            "Dep. Variable:                      y   R-squared:                       0.950\n",
            "Model:                            OLS   Adj. R-squared:                  0.943\n",
            "Method:                 Least Squares   F-statistic:                     129.7\n",
            "Date:                Fri, 16 Oct 2020   Prob (F-statistic):           3.91e-21\n",
            "Time:                        13:07:34   Log-Likelihood:                -421.10\n",
            "No. Observations:                  40   AIC:                             854.2\n",
            "Df Residuals:                      34   BIC:                             864.3\n",
            "Df Model:                           5                                         \n",
            "Covariance Type:            nonrobust                                         \n",
            "==============================================================================\n",
            "                 coef    std err          t      P>|t|      [0.025      0.975]\n",
            "------------------------------------------------------------------------------\n",
            "const       4.325e+04   8315.816      5.201      0.000    2.64e+04    6.02e+04\n",
            "x1             0.7735      0.055     14.025      0.000       0.661       0.886\n",
            "x2             0.0329      0.066      0.495      0.624      -0.102       0.168\n",
            "x3             0.0366      0.019      1.884      0.068      -0.003       0.076\n",
            "x4          -699.3691   3661.563     -0.191      0.850   -8140.560    6741.822\n",
            "x5         -1658.6532   4209.221     -0.394      0.696   -1.02e+04    6895.513\n",
            "==============================================================================\n",
            "Omnibus:                       15.823   Durbin-Watson:                   2.468\n",
            "Prob(Omnibus):                  0.000   Jarque-Bera (JB):               23.231\n",
            "Skew:                          -1.094   Prob(JB):                     9.03e-06\n",
            "Kurtosis:                       6.025   Cond. No.                     1.48e+06\n",
            "==============================================================================\n",
            "\n",
            "Warnings:\n",
            "[1] Standard Errors assume that the covariance matrix of the errors is correctly specified.\n",
            "[2] The condition number is large, 1.48e+06. This might indicate that there are\n",
            "strong multicollinearity or other numerical problems.\n"
          ],
          "name": "stdout"
        }
      ]
    },
    {
      "cell_type": "code",
      "metadata": {
        "id": "pe3rErabyvcP",
        "outputId": "2274281d-f2d8-4dd9-c30e-173df17f7b5a",
        "colab": {
          "base_uri": "https://localhost:8080/",
          "height": 343
        }
      },
      "source": [
        "X_test = X_test[:,:-1] #Removing the same dummy variable from here.\n",
        "y_pred3 = regressor.predict(X_test)\n",
        "results['Prediction 3'] = y_pred3\n",
        "results[['Prediction','Prediction2', 'Prediction 3']]"
      ],
      "execution_count": 12,
      "outputs": [
        {
          "output_type": "execute_result",
          "data": {
            "text/html": [
              "<div>\n",
              "<style scoped>\n",
              "    .dataframe tbody tr th:only-of-type {\n",
              "        vertical-align: middle;\n",
              "    }\n",
              "\n",
              "    .dataframe tbody tr th {\n",
              "        vertical-align: top;\n",
              "    }\n",
              "\n",
              "    .dataframe thead th {\n",
              "        text-align: right;\n",
              "    }\n",
              "</style>\n",
              "<table border=\"1\" class=\"dataframe\">\n",
              "  <thead>\n",
              "    <tr style=\"text-align: right;\">\n",
              "      <th></th>\n",
              "      <th>Prediction</th>\n",
              "      <th>Prediction2</th>\n",
              "      <th>Prediction 3</th>\n",
              "    </tr>\n",
              "  </thead>\n",
              "  <tbody>\n",
              "    <tr>\n",
              "      <th>0</th>\n",
              "      <td>103015.201598</td>\n",
              "      <td>103015.201598</td>\n",
              "      <td>103015.201598</td>\n",
              "    </tr>\n",
              "    <tr>\n",
              "      <th>1</th>\n",
              "      <td>132582.277608</td>\n",
              "      <td>132582.277609</td>\n",
              "      <td>132582.277609</td>\n",
              "    </tr>\n",
              "    <tr>\n",
              "      <th>2</th>\n",
              "      <td>132447.738452</td>\n",
              "      <td>132447.738453</td>\n",
              "      <td>132447.738453</td>\n",
              "    </tr>\n",
              "    <tr>\n",
              "      <th>3</th>\n",
              "      <td>71976.098513</td>\n",
              "      <td>71976.098511</td>\n",
              "      <td>71976.098512</td>\n",
              "    </tr>\n",
              "    <tr>\n",
              "      <th>4</th>\n",
              "      <td>178537.482211</td>\n",
              "      <td>178537.482212</td>\n",
              "      <td>178537.482212</td>\n",
              "    </tr>\n",
              "    <tr>\n",
              "      <th>5</th>\n",
              "      <td>116161.242302</td>\n",
              "      <td>116161.242300</td>\n",
              "      <td>116161.242300</td>\n",
              "    </tr>\n",
              "    <tr>\n",
              "      <th>6</th>\n",
              "      <td>67851.692097</td>\n",
              "      <td>67851.692095</td>\n",
              "      <td>67851.692095</td>\n",
              "    </tr>\n",
              "    <tr>\n",
              "      <th>7</th>\n",
              "      <td>98791.733747</td>\n",
              "      <td>98791.733747</td>\n",
              "      <td>98791.733747</td>\n",
              "    </tr>\n",
              "    <tr>\n",
              "      <th>8</th>\n",
              "      <td>113969.435330</td>\n",
              "      <td>113969.435329</td>\n",
              "      <td>113969.435329</td>\n",
              "    </tr>\n",
              "    <tr>\n",
              "      <th>9</th>\n",
              "      <td>167921.065696</td>\n",
              "      <td>167921.065697</td>\n",
              "      <td>167921.065697</td>\n",
              "    </tr>\n",
              "  </tbody>\n",
              "</table>\n",
              "</div>"
            ],
            "text/plain": [
              "      Prediction    Prediction2   Prediction 3\n",
              "0  103015.201598  103015.201598  103015.201598\n",
              "1  132582.277608  132582.277609  132582.277609\n",
              "2  132447.738452  132447.738453  132447.738453\n",
              "3   71976.098513   71976.098511   71976.098512\n",
              "4  178537.482211  178537.482212  178537.482212\n",
              "5  116161.242302  116161.242300  116161.242300\n",
              "6   67851.692097   67851.692095   67851.692095\n",
              "7   98791.733747   98791.733747   98791.733747\n",
              "8  113969.435330  113969.435329  113969.435329\n",
              "9  167921.065696  167921.065697  167921.065697"
            ]
          },
          "metadata": {
            "tags": []
          },
          "execution_count": 12
        }
      ]
    },
    {
      "cell_type": "markdown",
      "metadata": {
        "id": "WXCRahl-0C1a"
      },
      "source": [
        "As you can see, removing one dummy variable didn't effect the model, since it value was completely dependent on the other two dummies. Now we can optimize the model. "
      ]
    },
    {
      "cell_type": "markdown",
      "metadata": {
        "id": "EtUgyiEaiDca"
      },
      "source": [
        "## Backward elimination\n",
        "The optimization here means that we take away values that really don't have significant effect on the model. This signifigance can be measured with p-value of the variable. The summary of OLS -model lists the p-values. If p-value is over 0.05 is not considered being significant. We now reduce one by one variables until we are left with only significant ones. This is called the backward elimination.\n",
        "\n",
        "Latest summary report said, that x4 has the highest p-value. It is actually one of the dummy variables colums, but let's remove it and see what happens."
      ]
    },
    {
      "cell_type": "code",
      "metadata": {
        "id": "a7pzkxDP1Hwj",
        "outputId": "f09449d6-5dc7-46ae-9c32-a7e6ad733455",
        "colab": {
          "base_uri": "https://localhost:8080/",
          "height": 521
        }
      },
      "source": [
        "Xs = Xs[:,[0,1,2,3,5]] # x4 removed\n",
        "X_test = X_test[:,[0,1,2,3,5]]\n",
        "regressor = sm.OLS(y_train,Xs).fit()\n",
        "print(regressor.summary())\n"
      ],
      "execution_count": 13,
      "outputs": [
        {
          "output_type": "stream",
          "text": [
            "                            OLS Regression Results                            \n",
            "==============================================================================\n",
            "Dep. Variable:                      y   R-squared:                       0.950\n",
            "Model:                            OLS   Adj. R-squared:                  0.944\n",
            "Method:                 Least Squares   F-statistic:                     166.7\n",
            "Date:                Fri, 16 Oct 2020   Prob (F-statistic):           2.87e-22\n",
            "Time:                        13:12:11   Log-Likelihood:                -421.12\n",
            "No. Observations:                  40   AIC:                             852.2\n",
            "Df Residuals:                      35   BIC:                             860.7\n",
            "Df Model:                           4                                         \n",
            "Covariance Type:            nonrobust                                         \n",
            "==============================================================================\n",
            "                 coef    std err          t      P>|t|      [0.025      0.975]\n",
            "------------------------------------------------------------------------------\n",
            "const       4.292e+04   8020.397      5.352      0.000    2.66e+04    5.92e+04\n",
            "x1             0.7754      0.053     14.498      0.000       0.667       0.884\n",
            "x2             0.0319      0.065      0.488      0.629      -0.101       0.165\n",
            "x3             0.0363      0.019      1.902      0.065      -0.002       0.075\n",
            "x4         -1272.1608   3639.780     -0.350      0.729   -8661.308    6116.986\n",
            "==============================================================================\n",
            "Omnibus:                       16.074   Durbin-Watson:                   2.467\n",
            "Prob(Omnibus):                  0.000   Jarque-Bera (JB):               24.553\n",
            "Skew:                          -1.086   Prob(JB):                     4.66e-06\n",
            "Kurtosis:                       6.164   Cond. No.                     1.43e+06\n",
            "==============================================================================\n",
            "\n",
            "Warnings:\n",
            "[1] Standard Errors assume that the covariance matrix of the errors is correctly specified.\n",
            "[2] The condition number is large, 1.43e+06. This might indicate that there are\n",
            "strong multicollinearity or other numerical problems.\n"
          ],
          "name": "stdout"
        }
      ]
    },
    {
      "cell_type": "code",
      "metadata": {
        "id": "9n2aulDs2KW5",
        "outputId": "812816f3-9346-4250-e1eb-507ff622c383",
        "colab": {
          "base_uri": "https://localhost:8080/",
          "height": 343
        }
      },
      "source": [
        "y_pred = regressor.predict(X_test)\n",
        "results['Prediction'] = y_pred\n",
        "results['Difference %'] = (results['Prediction']-results['Test set value'])/results['Test set value'] * 100\n",
        "results[['Test set value','Prediction','Difference %']]"
      ],
      "execution_count": 14,
      "outputs": [
        {
          "output_type": "execute_result",
          "data": {
            "text/html": [
              "<div>\n",
              "<style scoped>\n",
              "    .dataframe tbody tr th:only-of-type {\n",
              "        vertical-align: middle;\n",
              "    }\n",
              "\n",
              "    .dataframe tbody tr th {\n",
              "        vertical-align: top;\n",
              "    }\n",
              "\n",
              "    .dataframe thead th {\n",
              "        text-align: right;\n",
              "    }\n",
              "</style>\n",
              "<table border=\"1\" class=\"dataframe\">\n",
              "  <thead>\n",
              "    <tr style=\"text-align: right;\">\n",
              "      <th></th>\n",
              "      <th>Test set value</th>\n",
              "      <th>Prediction</th>\n",
              "      <th>Difference %</th>\n",
              "    </tr>\n",
              "  </thead>\n",
              "  <tbody>\n",
              "    <tr>\n",
              "      <th>0</th>\n",
              "      <td>103282.38</td>\n",
              "      <td>102978.262439</td>\n",
              "      <td>-0.294453</td>\n",
              "    </tr>\n",
              "    <tr>\n",
              "      <th>1</th>\n",
              "      <td>144259.40</td>\n",
              "      <td>132979.340265</td>\n",
              "      <td>-7.819289</td>\n",
              "    </tr>\n",
              "    <tr>\n",
              "      <th>2</th>\n",
              "      <td>146121.95</td>\n",
              "      <td>132521.052857</td>\n",
              "      <td>-9.307908</td>\n",
              "    </tr>\n",
              "    <tr>\n",
              "      <th>3</th>\n",
              "      <td>77798.83</td>\n",
              "      <td>71952.387250</td>\n",
              "      <td>-7.514821</td>\n",
              "    </tr>\n",
              "    <tr>\n",
              "      <th>4</th>\n",
              "      <td>191050.39</td>\n",
              "      <td>178668.352492</td>\n",
              "      <td>-6.481032</td>\n",
              "    </tr>\n",
              "    <tr>\n",
              "      <th>5</th>\n",
              "      <td>105008.31</td>\n",
              "      <td>115738.444727</td>\n",
              "      <td>10.218367</td>\n",
              "    </tr>\n",
              "    <tr>\n",
              "      <th>6</th>\n",
              "      <td>81229.06</td>\n",
              "      <td>67439.975156</td>\n",
              "      <td>-16.975556</td>\n",
              "    </tr>\n",
              "    <tr>\n",
              "      <th>7</th>\n",
              "      <td>97483.56</td>\n",
              "      <td>98397.738039</td>\n",
              "      <td>0.937777</td>\n",
              "    </tr>\n",
              "    <tr>\n",
              "      <th>8</th>\n",
              "      <td>110352.25</td>\n",
              "      <td>113956.003258</td>\n",
              "      <td>3.265682</td>\n",
              "    </tr>\n",
              "    <tr>\n",
              "      <th>9</th>\n",
              "      <td>166187.94</td>\n",
              "      <td>168051.967138</td>\n",
              "      <td>1.121638</td>\n",
              "    </tr>\n",
              "  </tbody>\n",
              "</table>\n",
              "</div>"
            ],
            "text/plain": [
              "   Test set value     Prediction  Difference %\n",
              "0       103282.38  102978.262439     -0.294453\n",
              "1       144259.40  132979.340265     -7.819289\n",
              "2       146121.95  132521.052857     -9.307908\n",
              "3        77798.83   71952.387250     -7.514821\n",
              "4       191050.39  178668.352492     -6.481032\n",
              "5       105008.31  115738.444727     10.218367\n",
              "6        81229.06   67439.975156    -16.975556\n",
              "7        97483.56   98397.738039      0.937777\n",
              "8       110352.25  113956.003258      3.265682\n",
              "9       166187.94  168051.967138      1.121638"
            ]
          },
          "metadata": {
            "tags": []
          },
          "execution_count": 14
        }
      ]
    },
    {
      "cell_type": "code",
      "metadata": {
        "id": "esnWkIdq3c0u",
        "outputId": "231cb6bf-770f-47a0-e1e6-fe29b5cd9b96",
        "colab": {
          "base_uri": "https://localhost:8080/",
          "height": 34
        }
      },
      "source": [
        "print(f\"The average difference is {round(results['Difference %'].mean(),2)} %.\")"
      ],
      "execution_count": 15,
      "outputs": [
        {
          "output_type": "stream",
          "text": [
            "The average difference is -3.28 %.\n"
          ],
          "name": "stdout"
        }
      ]
    },
    {
      "cell_type": "markdown",
      "metadata": {
        "id": "Vmmvk_IN3hwQ"
      },
      "source": [
        "The difference is only slightly bigger, but the predicted results are still good. Next variable to drop is the last state variable. It seems that the knowledge about in which state the startup is doesn't really matter. "
      ]
    },
    {
      "cell_type": "code",
      "metadata": {
        "id": "2MA9_R6O37oP",
        "outputId": "77c5a24f-fee3-42eb-ba02-30ad0a1716a5",
        "colab": {
          "base_uri": "https://localhost:8080/",
          "height": 504
        }
      },
      "source": [
        "Xs = Xs[:,[0,1,2,3]] \n",
        "X_test = X_test[:,[0,1,2,3]]\n",
        "regressor = sm.OLS(y_train,Xs).fit()\n",
        "print(regressor.summary())"
      ],
      "execution_count": 16,
      "outputs": [
        {
          "output_type": "stream",
          "text": [
            "                            OLS Regression Results                            \n",
            "==============================================================================\n",
            "Dep. Variable:                      y   R-squared:                       0.950\n",
            "Model:                            OLS   Adj. R-squared:                  0.946\n",
            "Method:                 Least Squares   F-statistic:                     227.8\n",
            "Date:                Fri, 16 Oct 2020   Prob (F-statistic):           1.85e-23\n",
            "Time:                        13:15:13   Log-Likelihood:                -421.19\n",
            "No. Observations:                  40   AIC:                             850.4\n",
            "Df Residuals:                      36   BIC:                             857.1\n",
            "Df Model:                           3                                         \n",
            "Covariance Type:            nonrobust                                         \n",
            "==============================================================================\n",
            "                 coef    std err          t      P>|t|      [0.025      0.975]\n",
            "------------------------------------------------------------------------------\n",
            "const       4.299e+04   7919.773      5.428      0.000    2.69e+04    5.91e+04\n",
            "x1             0.7788      0.052     15.003      0.000       0.674       0.884\n",
            "x2             0.0294      0.064      0.458      0.650      -0.101       0.160\n",
            "x3             0.0347      0.018      1.896      0.066      -0.002       0.072\n",
            "==============================================================================\n",
            "Omnibus:                       15.557   Durbin-Watson:                   2.481\n",
            "Prob(Omnibus):                  0.000   Jarque-Bera (JB):               22.539\n",
            "Skew:                          -1.081   Prob(JB):                     1.28e-05\n",
            "Kurtosis:                       5.974   Cond. No.                     1.43e+06\n",
            "==============================================================================\n",
            "\n",
            "Warnings:\n",
            "[1] Standard Errors assume that the covariance matrix of the errors is correctly specified.\n",
            "[2] The condition number is large, 1.43e+06. This might indicate that there are\n",
            "strong multicollinearity or other numerical problems.\n"
          ],
          "name": "stdout"
        }
      ]
    },
    {
      "cell_type": "code",
      "metadata": {
        "id": "AQphH18P4O6J",
        "outputId": "07ca7768-fc73-4a43-9cc4-c35939a40c8f",
        "colab": {
          "base_uri": "https://localhost:8080/",
          "height": 343
        }
      },
      "source": [
        "y_pred = regressor.predict(X_test)\n",
        "results['Prediction'] = y_pred\n",
        "results['Difference %'] = (results['Prediction']-results['Test set value'])/results['Test set value'] * 100\n",
        "results[['Test set value','Prediction','Difference %']]"
      ],
      "execution_count": 17,
      "outputs": [
        {
          "output_type": "execute_result",
          "data": {
            "text/html": [
              "<div>\n",
              "<style scoped>\n",
              "    .dataframe tbody tr th:only-of-type {\n",
              "        vertical-align: middle;\n",
              "    }\n",
              "\n",
              "    .dataframe tbody tr th {\n",
              "        vertical-align: top;\n",
              "    }\n",
              "\n",
              "    .dataframe thead th {\n",
              "        text-align: right;\n",
              "    }\n",
              "</style>\n",
              "<table border=\"1\" class=\"dataframe\">\n",
              "  <thead>\n",
              "    <tr style=\"text-align: right;\">\n",
              "      <th></th>\n",
              "      <th>Test set value</th>\n",
              "      <th>Prediction</th>\n",
              "      <th>Difference %</th>\n",
              "    </tr>\n",
              "  </thead>\n",
              "  <tbody>\n",
              "    <tr>\n",
              "      <th>0</th>\n",
              "      <td>103282.38</td>\n",
              "      <td>103901.896970</td>\n",
              "      <td>0.599828</td>\n",
              "    </tr>\n",
              "    <tr>\n",
              "      <th>1</th>\n",
              "      <td>144259.40</td>\n",
              "      <td>132763.059931</td>\n",
              "      <td>-7.969214</td>\n",
              "    </tr>\n",
              "    <tr>\n",
              "      <th>2</th>\n",
              "      <td>146121.95</td>\n",
              "      <td>133567.903700</td>\n",
              "      <td>-8.591486</td>\n",
              "    </tr>\n",
              "    <tr>\n",
              "      <th>3</th>\n",
              "      <td>77798.83</td>\n",
              "      <td>72911.789767</td>\n",
              "      <td>-6.281637</td>\n",
              "    </tr>\n",
              "    <tr>\n",
              "      <th>4</th>\n",
              "      <td>191050.39</td>\n",
              "      <td>179627.925672</td>\n",
              "      <td>-5.978770</td>\n",
              "    </tr>\n",
              "    <tr>\n",
              "      <th>5</th>\n",
              "      <td>105008.31</td>\n",
              "      <td>115166.648648</td>\n",
              "      <td>9.673843</td>\n",
              "    </tr>\n",
              "    <tr>\n",
              "      <th>6</th>\n",
              "      <td>81229.06</td>\n",
              "      <td>67113.576906</td>\n",
              "      <td>-17.377381</td>\n",
              "    </tr>\n",
              "    <tr>\n",
              "      <th>7</th>\n",
              "      <td>97483.56</td>\n",
              "      <td>98154.806868</td>\n",
              "      <td>0.688574</td>\n",
              "    </tr>\n",
              "    <tr>\n",
              "      <th>8</th>\n",
              "      <td>110352.25</td>\n",
              "      <td>114756.115552</td>\n",
              "      <td>3.990735</td>\n",
              "    </tr>\n",
              "    <tr>\n",
              "      <th>9</th>\n",
              "      <td>166187.94</td>\n",
              "      <td>169064.014088</td>\n",
              "      <td>1.730615</td>\n",
              "    </tr>\n",
              "  </tbody>\n",
              "</table>\n",
              "</div>"
            ],
            "text/plain": [
              "   Test set value     Prediction  Difference %\n",
              "0       103282.38  103901.896970      0.599828\n",
              "1       144259.40  132763.059931     -7.969214\n",
              "2       146121.95  133567.903700     -8.591486\n",
              "3        77798.83   72911.789767     -6.281637\n",
              "4       191050.39  179627.925672     -5.978770\n",
              "5       105008.31  115166.648648      9.673843\n",
              "6        81229.06   67113.576906    -17.377381\n",
              "7        97483.56   98154.806868      0.688574\n",
              "8       110352.25  114756.115552      3.990735\n",
              "9       166187.94  169064.014088      1.730615"
            ]
          },
          "metadata": {
            "tags": []
          },
          "execution_count": 17
        }
      ]
    },
    {
      "cell_type": "code",
      "metadata": {
        "id": "2xQ8-YFn4d_w",
        "outputId": "4493013e-2390-4e38-a538-4515444cf9f4",
        "colab": {
          "base_uri": "https://localhost:8080/",
          "height": 34
        }
      },
      "source": [
        "print(f\"The average difference is {round(results['Difference %'].mean(),2)} %.\")"
      ],
      "execution_count": 18,
      "outputs": [
        {
          "output_type": "stream",
          "text": [
            "The average difference is -2.95 %.\n"
          ],
          "name": "stdout"
        }
      ]
    },
    {
      "cell_type": "markdown",
      "metadata": {
        "id": "VzzRNxSW4gl_"
      },
      "source": [
        "So removing even the last state didn't make the model bad. There is still a column that's p-value is over 0.05. The Administration column has p-value 0.65. so let's remove that."
      ]
    },
    {
      "cell_type": "code",
      "metadata": {
        "id": "vzr2F3Vd43nB",
        "outputId": "e25221af-09fb-4392-deee-a60e9e7cc21c",
        "colab": {
          "base_uri": "https://localhost:8080/",
          "height": 487
        }
      },
      "source": [
        "Xs = Xs[:,[0,1,3]] # Administration removed\n",
        "X_test = X_test[:,[0,1,3]]\n",
        "regressor = sm.OLS(y_train,Xs).fit()\n",
        "print(regressor.summary())"
      ],
      "execution_count": 19,
      "outputs": [
        {
          "output_type": "stream",
          "text": [
            "                            OLS Regression Results                            \n",
            "==============================================================================\n",
            "Dep. Variable:                      y   R-squared:                       0.950\n",
            "Model:                            OLS   Adj. R-squared:                  0.947\n",
            "Method:                 Least Squares   F-statistic:                     349.0\n",
            "Date:                Fri, 16 Oct 2020   Prob (F-statistic):           9.65e-25\n",
            "Time:                        13:17:53   Log-Likelihood:                -421.30\n",
            "No. Observations:                  40   AIC:                             848.6\n",
            "Df Residuals:                      37   BIC:                             853.7\n",
            "Df Model:                           2                                         \n",
            "Covariance Type:            nonrobust                                         \n",
            "==============================================================================\n",
            "                 coef    std err          t      P>|t|      [0.025      0.975]\n",
            "------------------------------------------------------------------------------\n",
            "const       4.635e+04   2971.236     15.598      0.000    4.03e+04    5.24e+04\n",
            "x1             0.7886      0.047     16.846      0.000       0.694       0.883\n",
            "x2             0.0326      0.018      1.860      0.071      -0.003       0.068\n",
            "==============================================================================\n",
            "Omnibus:                       14.666   Durbin-Watson:                   2.518\n",
            "Prob(Omnibus):                  0.001   Jarque-Bera (JB):               20.582\n",
            "Skew:                          -1.030   Prob(JB):                     3.39e-05\n",
            "Kurtosis:                       5.847   Cond. No.                     4.97e+05\n",
            "==============================================================================\n",
            "\n",
            "Warnings:\n",
            "[1] Standard Errors assume that the covariance matrix of the errors is correctly specified.\n",
            "[2] The condition number is large, 4.97e+05. This might indicate that there are\n",
            "strong multicollinearity or other numerical problems.\n"
          ],
          "name": "stdout"
        }
      ]
    },
    {
      "cell_type": "code",
      "metadata": {
        "id": "MocvSV_p5H8i",
        "outputId": "fe7d6b5b-4a6c-4d6d-9409-01cb7a6373f0",
        "colab": {
          "base_uri": "https://localhost:8080/",
          "height": 343
        }
      },
      "source": [
        "y_pred = regressor.predict(X_test)\n",
        "results['Prediction'] = y_pred\n",
        "results['Difference %'] = (results['Prediction']-results['Test set value'])/results['Test set value'] * 100\n",
        "results[['Test set value','Prediction','Difference %']]"
      ],
      "execution_count": 20,
      "outputs": [
        {
          "output_type": "execute_result",
          "data": {
            "text/html": [
              "<div>\n",
              "<style scoped>\n",
              "    .dataframe tbody tr th:only-of-type {\n",
              "        vertical-align: middle;\n",
              "    }\n",
              "\n",
              "    .dataframe tbody tr th {\n",
              "        vertical-align: top;\n",
              "    }\n",
              "\n",
              "    .dataframe thead th {\n",
              "        text-align: right;\n",
              "    }\n",
              "</style>\n",
              "<table border=\"1\" class=\"dataframe\">\n",
              "  <thead>\n",
              "    <tr style=\"text-align: right;\">\n",
              "      <th></th>\n",
              "      <th>Test set value</th>\n",
              "      <th>Prediction</th>\n",
              "      <th>Difference %</th>\n",
              "    </tr>\n",
              "  </thead>\n",
              "  <tbody>\n",
              "    <tr>\n",
              "      <th>0</th>\n",
              "      <td>103282.38</td>\n",
              "      <td>102284.646052</td>\n",
              "      <td>-0.966025</td>\n",
              "    </tr>\n",
              "    <tr>\n",
              "      <th>1</th>\n",
              "      <td>144259.40</td>\n",
              "      <td>133873.923838</td>\n",
              "      <td>-7.199168</td>\n",
              "    </tr>\n",
              "    <tr>\n",
              "      <th>2</th>\n",
              "      <td>146121.95</td>\n",
              "      <td>134182.149517</td>\n",
              "      <td>-8.171120</td>\n",
              "    </tr>\n",
              "    <tr>\n",
              "      <th>3</th>\n",
              "      <td>77798.83</td>\n",
              "      <td>73701.106936</td>\n",
              "      <td>-5.267075</td>\n",
              "    </tr>\n",
              "    <tr>\n",
              "      <th>4</th>\n",
              "      <td>191050.39</td>\n",
              "      <td>180642.252997</td>\n",
              "      <td>-5.447849</td>\n",
              "    </tr>\n",
              "    <tr>\n",
              "      <th>5</th>\n",
              "      <td>105008.31</td>\n",
              "      <td>114717.249039</td>\n",
              "      <td>9.245877</td>\n",
              "    </tr>\n",
              "    <tr>\n",
              "      <th>6</th>\n",
              "      <td>81229.06</td>\n",
              "      <td>68335.075753</td>\n",
              "      <td>-15.873610</td>\n",
              "    </tr>\n",
              "    <tr>\n",
              "      <th>7</th>\n",
              "      <td>97483.56</td>\n",
              "      <td>97433.459223</td>\n",
              "      <td>-0.051394</td>\n",
              "    </tr>\n",
              "    <tr>\n",
              "      <th>8</th>\n",
              "      <td>110352.25</td>\n",
              "      <td>114580.921365</td>\n",
              "      <td>3.831976</td>\n",
              "    </tr>\n",
              "    <tr>\n",
              "      <th>9</th>\n",
              "      <td>166187.94</td>\n",
              "      <td>170343.319795</td>\n",
              "      <td>2.500410</td>\n",
              "    </tr>\n",
              "  </tbody>\n",
              "</table>\n",
              "</div>"
            ],
            "text/plain": [
              "   Test set value     Prediction  Difference %\n",
              "0       103282.38  102284.646052     -0.966025\n",
              "1       144259.40  133873.923838     -7.199168\n",
              "2       146121.95  134182.149517     -8.171120\n",
              "3        77798.83   73701.106936     -5.267075\n",
              "4       191050.39  180642.252997     -5.447849\n",
              "5       105008.31  114717.249039      9.245877\n",
              "6        81229.06   68335.075753    -15.873610\n",
              "7        97483.56   97433.459223     -0.051394\n",
              "8       110352.25  114580.921365      3.831976\n",
              "9       166187.94  170343.319795      2.500410"
            ]
          },
          "metadata": {
            "tags": []
          },
          "execution_count": 20
        }
      ]
    },
    {
      "cell_type": "code",
      "metadata": {
        "id": "Q-d3Dz-s5Rzp",
        "outputId": "488af1d7-4f40-4fa6-e9e6-a9eef7290d03",
        "colab": {
          "base_uri": "https://localhost:8080/",
          "height": 34
        }
      },
      "source": [
        "print(f\"The average difference is {round(results['Difference %'].mean(),2)} %.\")"
      ],
      "execution_count": 21,
      "outputs": [
        {
          "output_type": "stream",
          "text": [
            "The average difference is -2.74 %.\n"
          ],
          "name": "stdout"
        }
      ]
    },
    {
      "cell_type": "markdown",
      "metadata": {
        "id": "hINLlsKbkFmA"
      },
      "source": [
        "The linear model is still very good. Even in summary R-squared value is still 0.95. There are still a variable that's p-value is over 0.05. It is the column that contains Marketing Spendings. Let's see what happens when we remove that."
      ]
    },
    {
      "cell_type": "code",
      "metadata": {
        "id": "wP7-9KBflA-a",
        "outputId": "87dba836-b68e-4a25-899e-d8b8222843a3",
        "colab": {
          "base_uri": "https://localhost:8080/",
          "height": 470
        }
      },
      "source": [
        "Xs = Xs[:,[0,1]] # Marketing Spend removed\n",
        "X_test = X_test[:,[0,1]]\n",
        "regressor = sm.OLS(y_train,Xs).fit()\n",
        "print(regressor.summary())"
      ],
      "execution_count": 22,
      "outputs": [
        {
          "output_type": "stream",
          "text": [
            "                            OLS Regression Results                            \n",
            "==============================================================================\n",
            "Dep. Variable:                      y   R-squared:                       0.945\n",
            "Model:                            OLS   Adj. R-squared:                  0.944\n",
            "Method:                 Least Squares   F-statistic:                     652.4\n",
            "Date:                Fri, 16 Oct 2020   Prob (F-statistic):           1.56e-25\n",
            "Time:                        13:23:30   Log-Likelihood:                -423.09\n",
            "No. Observations:                  40   AIC:                             850.2\n",
            "Df Residuals:                      38   BIC:                             853.6\n",
            "Df Model:                           1                                         \n",
            "Covariance Type:            nonrobust                                         \n",
            "==============================================================================\n",
            "                 coef    std err          t      P>|t|      [0.025      0.975]\n",
            "------------------------------------------------------------------------------\n",
            "const       4.842e+04   2842.717     17.032      0.000    4.27e+04    5.42e+04\n",
            "x1             0.8516      0.033     25.542      0.000       0.784       0.919\n",
            "==============================================================================\n",
            "Omnibus:                       13.132   Durbin-Watson:                   2.325\n",
            "Prob(Omnibus):                  0.001   Jarque-Bera (JB):               16.254\n",
            "Skew:                          -0.991   Prob(JB):                     0.000295\n",
            "Kurtosis:                       5.413   Cond. No.                     1.57e+05\n",
            "==============================================================================\n",
            "\n",
            "Warnings:\n",
            "[1] Standard Errors assume that the covariance matrix of the errors is correctly specified.\n",
            "[2] The condition number is large, 1.57e+05. This might indicate that there are\n",
            "strong multicollinearity or other numerical problems.\n"
          ],
          "name": "stdout"
        }
      ]
    },
    {
      "cell_type": "code",
      "metadata": {
        "id": "ACN78OAPlSzE",
        "outputId": "a02d191b-90c4-439e-fb47-7964d62cea84",
        "colab": {
          "base_uri": "https://localhost:8080/",
          "height": 343
        }
      },
      "source": [
        "y_pred = regressor.predict(X_test)\n",
        "results['Prediction'] = y_pred\n",
        "results['Difference %'] = (results['Prediction']-results['Test set value'])/results['Test set value'] * 100\n",
        "results[['Test set value','Prediction','Difference %']]"
      ],
      "execution_count": 23,
      "outputs": [
        {
          "output_type": "execute_result",
          "data": {
            "text/html": [
              "<div>\n",
              "<style scoped>\n",
              "    .dataframe tbody tr th:only-of-type {\n",
              "        vertical-align: middle;\n",
              "    }\n",
              "\n",
              "    .dataframe tbody tr th {\n",
              "        vertical-align: top;\n",
              "    }\n",
              "\n",
              "    .dataframe thead th {\n",
              "        text-align: right;\n",
              "    }\n",
              "</style>\n",
              "<table border=\"1\" class=\"dataframe\">\n",
              "  <thead>\n",
              "    <tr style=\"text-align: right;\">\n",
              "      <th></th>\n",
              "      <th>Test set value</th>\n",
              "      <th>Prediction</th>\n",
              "      <th>Difference %</th>\n",
              "    </tr>\n",
              "  </thead>\n",
              "  <tbody>\n",
              "    <tr>\n",
              "      <th>0</th>\n",
              "      <td>103282.38</td>\n",
              "      <td>104667.278060</td>\n",
              "      <td>1.340885</td>\n",
              "    </tr>\n",
              "    <tr>\n",
              "      <th>1</th>\n",
              "      <td>144259.40</td>\n",
              "      <td>134150.834106</td>\n",
              "      <td>-7.007215</td>\n",
              "    </tr>\n",
              "    <tr>\n",
              "      <th>2</th>\n",
              "      <td>146121.95</td>\n",
              "      <td>135207.800195</td>\n",
              "      <td>-7.469206</td>\n",
              "    </tr>\n",
              "    <tr>\n",
              "      <th>3</th>\n",
              "      <td>77798.83</td>\n",
              "      <td>72170.544289</td>\n",
              "      <td>-7.234409</td>\n",
              "    </tr>\n",
              "    <tr>\n",
              "      <th>4</th>\n",
              "      <td>191050.39</td>\n",
              "      <td>179090.586025</td>\n",
              "      <td>-6.260026</td>\n",
              "    </tr>\n",
              "    <tr>\n",
              "      <th>5</th>\n",
              "      <td>105008.31</td>\n",
              "      <td>109824.773866</td>\n",
              "      <td>4.586745</td>\n",
              "    </tr>\n",
              "    <tr>\n",
              "      <th>6</th>\n",
              "      <td>81229.06</td>\n",
              "      <td>65644.277738</td>\n",
              "      <td>-19.186215</td>\n",
              "    </tr>\n",
              "    <tr>\n",
              "      <th>7</th>\n",
              "      <td>97483.56</td>\n",
              "      <td>100481.432771</td>\n",
              "      <td>3.075260</td>\n",
              "    </tr>\n",
              "    <tr>\n",
              "      <th>8</th>\n",
              "      <td>110352.25</td>\n",
              "      <td>111431.752024</td>\n",
              "      <td>0.978233</td>\n",
              "    </tr>\n",
              "    <tr>\n",
              "      <th>9</th>\n",
              "      <td>166187.94</td>\n",
              "      <td>169438.148435</td>\n",
              "      <td>1.955743</td>\n",
              "    </tr>\n",
              "  </tbody>\n",
              "</table>\n",
              "</div>"
            ],
            "text/plain": [
              "   Test set value     Prediction  Difference %\n",
              "0       103282.38  104667.278060      1.340885\n",
              "1       144259.40  134150.834106     -7.007215\n",
              "2       146121.95  135207.800195     -7.469206\n",
              "3        77798.83   72170.544289     -7.234409\n",
              "4       191050.39  179090.586025     -6.260026\n",
              "5       105008.31  109824.773866      4.586745\n",
              "6        81229.06   65644.277738    -19.186215\n",
              "7        97483.56  100481.432771      3.075260\n",
              "8       110352.25  111431.752024      0.978233\n",
              "9       166187.94  169438.148435      1.955743"
            ]
          },
          "metadata": {
            "tags": []
          },
          "execution_count": 23
        }
      ]
    },
    {
      "cell_type": "code",
      "metadata": {
        "id": "Ak0Dz0P_lZpI",
        "outputId": "1cd6be89-79e3-424b-8bb8-32712477a116",
        "colab": {
          "base_uri": "https://localhost:8080/",
          "height": 34
        }
      },
      "source": [
        "print(f\"The average difference is {round(results['Difference %'].mean(),2)} %.\")"
      ],
      "execution_count": 24,
      "outputs": [
        {
          "output_type": "stream",
          "text": [
            "The average difference is -3.52 %.\n"
          ],
          "name": "stdout"
        }
      ]
    },
    {
      "cell_type": "markdown",
      "metadata": {
        "id": "T1RxwrQJleMn"
      },
      "source": [
        "Basically we have now a simple linear model. And it seems that most important value for looking how startup's do is how much they put money in R&D.\n",
        "\n",
        "Let's visualize this model."
      ]
    },
    {
      "cell_type": "code",
      "metadata": {
        "id": "lafHJnFilzG6",
        "outputId": "cc1d9469-b120-4e93-cbeb-134d6686699f",
        "colab": {
          "base_uri": "https://localhost:8080/",
          "height": 295
        }
      },
      "source": [
        "x_values= np.arange(0.0, 175000.0, 10000.0)\n",
        "plt.plot(x_values, regressor.predict(sm.add_constant(x_values))) # Plotting the model\n",
        "plt.scatter(Xs[:,1], y_train, c='red') # Plotting the data used for calculations\n",
        "plt.scatter(X_test[:,1], y_test, c= 'red') #plotting also the test data\n",
        "plt.title('Profit vs R&D Spend')\n",
        "plt.ylabel('Profit')\n",
        "plt.xlabel('R&D Spend');"
      ],
      "execution_count": 36,
      "outputs": [
        {
          "output_type": "display_data",
          "data": {
            "image/png": "[encoded data removed]",
            "text/plain": [
              "<Figure size 432x288 with 1 Axes>"
            ]
          },
          "metadata": {
            "tags": [],
            "needs_background": "light"
          }
        }
      ]
    },
    {
      "cell_type": "markdown",
      "metadata": {
        "id": "mqRFTkSbpMJl"
      },
      "source": [
        "As we see that in this case the simple linear model really did do already the job. But as I said in the beginning this data set was really small and therefore we cannot draw any really conclusions about the situation in reality, but at least for this 50 startups the money used for R&D was the biggest contributer for when we want to predict the profit of the company."
      ]
    }
  ]
}